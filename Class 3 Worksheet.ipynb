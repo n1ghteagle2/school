{
 "cells": [
  {
   "cell_type": "code",
   "execution_count": null,
   "metadata": {},
   "outputs": [],
   "source": [
    "x = 42"
   ]
  },
  {
   "cell_type": "code",
   "execution_count": null,
   "metadata": {},
   "outputs": [],
   "source": [
    "type(x)"
   ]
  },
  {
   "cell_type": "code",
   "execution_count": null,
   "metadata": {},
   "outputs": [],
   "source": [
    "True or False"
   ]
  },
  {
   "cell_type": "code",
   "execution_count": null,
   "metadata": {},
   "outputs": [],
   "source": [
    "y = 12\n",
    "if type(y) == str:\n",
    "    print('String cheese dude')\n",
    "elif type(y) == int or type(y) == float:\n",
    "    print('Comfortably Num bro')\n",
    "else:\n",
    "    print('Parmasan')"
   ]
  },
  {
   "cell_type": "code",
   "execution_count": null,
   "metadata": {},
   "outputs": [],
   "source": [
    "z = 'sup'\n",
    "z.isalpha()\n",
    "len(z)"
   ]
  },
  {
   "cell_type": "code",
   "execution_count": null,
   "metadata": {},
   "outputs": [],
   "source": [
    "uinput1 = input('Enter a password: ')\n",
    "uinput2 = input('Re-enter the password: ')\n",
    "\n",
    "if uinput1 == uinput2:\n",
    "    print('sup')"
   ]
  },
  {
   "cell_type": "code",
   "execution_count": null,
   "metadata": {},
   "outputs": [],
   "source": [
    "# Your Code Here\n",
    "pw = 'cheesypoofs69'\n",
    "pwcorrect = False\n",
    "\n",
    "while pwcorrect == False:\n",
    "    uinput = input('Enter a password: ')\n",
    "    while uinput == pw:\n",
    "        print('yeah')\n",
    "        while uinput.isnumeric() == True:\n",
    "            print('yeah number')\n",
    "            while uinput.isalpha() == True:\n",
    "                print('yeah alpha')\n",
    "                while len(uinput) >= 8:\n",
    "                    print(\"Access Granted. Secret Files being unleashed\")\n",
    "                    pwcorrect == True\n",
    "    else:\n",
    "        print(\"naw dude, try again\")"
   ]
  },
  {
   "cell_type": "code",
   "execution_count": null,
   "metadata": {},
   "outputs": [],
   "source": [
    "equals = False\n",
    "while equals == False:\n",
    "    uinput1 = input('Enter a password: ')\n",
    "    uinput2 = input('Re-enter the password: ')\n",
    "    if uinput1 == uinput2:\n",
    "        if uinput1.isalnum() == True:\n",
    "            if len(uinput1) >= 8:\n",
    "                print('Yep')\n",
    "                ppw = uinput1\n",
    "                print('Your new password is: ',ppw)\n",
    "                equals = True\n",
    "            else:\n",
    "                print('Naw not long enough')\n",
    "        else:\n",
    "            print('Naw needs numbers and letters')\n",
    "    else:\n",
    "        print('Naw not the same man')"
   ]
  },
  {
   "cell_type": "code",
   "execution_count": null,
   "metadata": {},
   "outputs": [],
   "source": [
    "q = 'hellothere69'\n",
    "\n",
    "q.isnumeric()"
   ]
  },
  {
   "cell_type": "code",
   "execution_count": null,
   "metadata": {},
   "outputs": [],
   "source": [
    "a_list = [13,15,False,True,'whatever','suh',['friend','buddy','guy']]"
   ]
  },
  {
   "cell_type": "code",
   "execution_count": null,
   "metadata": {},
   "outputs": [],
   "source": [
    "a_list[5]"
   ]
  },
  {
   "cell_type": "code",
   "execution_count": null,
   "metadata": {},
   "outputs": [],
   "source": [
    "a_list[:3:2]"
   ]
  },
  {
   "cell_type": "code",
   "execution_count": null,
   "metadata": {},
   "outputs": [],
   "source": [
    "for item in a_list:\n",
    "    print(item)"
   ]
  },
  {
   "cell_type": "code",
   "execution_count": 1,
   "metadata": {},
   "outputs": [],
   "source": [
    "neww_list = list(range(24))"
   ]
  },
  {
   "cell_type": "code",
   "execution_count": 3,
   "metadata": {},
   "outputs": [
    {
     "data": {
      "text/plain": [
       "[1, 3, 5, 7, 9, 11, 13, 15, 17, 19, 21, 23]"
      ]
     },
     "execution_count": 3,
     "metadata": {},
     "output_type": "execute_result"
    }
   ],
   "source": [
    "odds_list =[]\n",
    "even_list =[]\n",
    "\n",
    "for thing in neww_list:\n",
    "    if thing % 2 ==1:\n",
    "        odds_list.append(thing)\n",
    "    else:\n",
    "        even_list.append(thing)\n",
    "odds_list"
   ]
  },
  {
   "cell_type": "code",
   "execution_count": null,
   "metadata": {},
   "outputs": [],
   "source": [
    "odds_list =[item for item in new_list if item% 2 ==1]"
   ]
  },
  {
   "cell_type": "code",
   "execution_count": null,
   "metadata": {},
   "outputs": [],
   "source": []
  }
 ],
 "metadata": {
  "kernelspec": {
   "display_name": "Python 3",
   "language": "python",
   "name": "python3"
  },
  "language_info": {
   "codemirror_mode": {
    "name": "ipython",
    "version": 3
   },
   "file_extension": ".py",
   "mimetype": "text/x-python",
   "name": "python",
   "nbconvert_exporter": "python",
   "pygments_lexer": "ipython3",
   "version": "3.7.3"
  }
 },
 "nbformat": 4,
 "nbformat_minor": 2
}
