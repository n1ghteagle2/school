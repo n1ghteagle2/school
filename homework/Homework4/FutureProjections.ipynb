{
 "cells": [
  {
   "cell_type": "code",
   "execution_count": null,
   "metadata": {},
   "outputs": [],
   "source": [
    "#Using an ARIMA model to project future cost and leads"
   ]
  },
  {
   "cell_type": "code",
   "execution_count": 1,
   "metadata": {},
   "outputs": [],
   "source": [
    "import pandas as pd\n",
    "\n",
    "df= pd.read_csv('icims_byday.csv',index_col='Day',parse_dates=True,skiprows=2)"
   ]
  },
  {
   "cell_type": "code",
   "execution_count": 2,
   "metadata": {},
   "outputs": [
    {
     "data": {
      "text/html": [
       "<div>\n",
       "<style scoped>\n",
       "    .dataframe tbody tr th:only-of-type {\n",
       "        vertical-align: middle;\n",
       "    }\n",
       "\n",
       "    .dataframe tbody tr th {\n",
       "        vertical-align: top;\n",
       "    }\n",
       "\n",
       "    .dataframe thead th {\n",
       "        text-align: right;\n",
       "    }\n",
       "</style>\n",
       "<table border=\"1\" class=\"dataframe\">\n",
       "  <thead>\n",
       "    <tr style=\"text-align: right;\">\n",
       "      <th></th>\n",
       "      <th>Account</th>\n",
       "      <th>Currency</th>\n",
       "      <th>Conversions</th>\n",
       "      <th>Cost</th>\n",
       "      <th>Search Impr. share</th>\n",
       "      <th>Clicks</th>\n",
       "      <th>Impressions</th>\n",
       "    </tr>\n",
       "    <tr>\n",
       "      <th>Day</th>\n",
       "      <th></th>\n",
       "      <th></th>\n",
       "      <th></th>\n",
       "      <th></th>\n",
       "      <th></th>\n",
       "      <th></th>\n",
       "      <th></th>\n",
       "    </tr>\n",
       "  </thead>\n",
       "  <tbody>\n",
       "    <tr>\n",
       "      <th>2017-07-13</th>\n",
       "      <td>Google - Recruit - Desktop</td>\n",
       "      <td>USD</td>\n",
       "      <td>24.53</td>\n",
       "      <td>8433.04</td>\n",
       "      <td>67.47%</td>\n",
       "      <td>659</td>\n",
       "      <td>18,556</td>\n",
       "    </tr>\n",
       "    <tr>\n",
       "      <th>2017-07-17</th>\n",
       "      <td>Google - Recruit - Desktop</td>\n",
       "      <td>USD</td>\n",
       "      <td>17.03</td>\n",
       "      <td>6929.43</td>\n",
       "      <td>65.86%</td>\n",
       "      <td>576</td>\n",
       "      <td>18,266</td>\n",
       "    </tr>\n",
       "    <tr>\n",
       "      <th>2017-08-03</th>\n",
       "      <td>Google - Recruit - Desktop</td>\n",
       "      <td>USD</td>\n",
       "      <td>16.75</td>\n",
       "      <td>7293.85</td>\n",
       "      <td>77.03%</td>\n",
       "      <td>489</td>\n",
       "      <td>14,594</td>\n",
       "    </tr>\n",
       "    <tr>\n",
       "      <th>2017-08-09</th>\n",
       "      <td>Google - Recruit - Desktop</td>\n",
       "      <td>USD</td>\n",
       "      <td>27.50</td>\n",
       "      <td>7838.70</td>\n",
       "      <td>77.52%</td>\n",
       "      <td>514</td>\n",
       "      <td>13,550</td>\n",
       "    </tr>\n",
       "    <tr>\n",
       "      <th>2017-10-03</th>\n",
       "      <td>Google - Recruit - Desktop</td>\n",
       "      <td>USD</td>\n",
       "      <td>17.27</td>\n",
       "      <td>13060.14</td>\n",
       "      <td>75.77%</td>\n",
       "      <td>676</td>\n",
       "      <td>22,289</td>\n",
       "    </tr>\n",
       "  </tbody>\n",
       "</table>\n",
       "</div>"
      ],
      "text/plain": [
       "                               Account Currency  Conversions      Cost  \\\n",
       "Day                                                                      \n",
       "2017-07-13  Google - Recruit - Desktop      USD        24.53   8433.04   \n",
       "2017-07-17  Google - Recruit - Desktop      USD        17.03   6929.43   \n",
       "2017-08-03  Google - Recruit - Desktop      USD        16.75   7293.85   \n",
       "2017-08-09  Google - Recruit - Desktop      USD        27.50   7838.70   \n",
       "2017-10-03  Google - Recruit - Desktop      USD        17.27  13060.14   \n",
       "\n",
       "           Search Impr. share  Clicks Impressions  \n",
       "Day                                                \n",
       "2017-07-13             67.47%     659      18,556  \n",
       "2017-07-17             65.86%     576      18,266  \n",
       "2017-08-03             77.03%     489      14,594  \n",
       "2017-08-09             77.52%     514      13,550  \n",
       "2017-10-03             75.77%     676      22,289  "
      ]
     },
     "execution_count": 2,
     "metadata": {},
     "output_type": "execute_result"
    }
   ],
   "source": [
    "df.head()"
   ]
  },
  {
   "cell_type": "code",
   "execution_count": 3,
   "metadata": {
    "collapsed": true,
    "jupyter": {
     "outputs_hidden": true
    }
   },
   "outputs": [
    {
     "ename": "TypeError",
     "evalue": "unsupported operand type(s) for /: 'int' and 'str'",
     "output_type": "error",
     "traceback": [
      "\u001b[1;31m---------------------------------------------------------------------------\u001b[0m",
      "\u001b[1;31mTypeError\u001b[0m                                 Traceback (most recent call last)",
      "\u001b[1;32m~\\AppData\\Local\\Continuum\\anaconda3\\lib\\site-packages\\pandas\\core\\ops.py\u001b[0m in \u001b[0;36mna_op\u001b[1;34m(x, y)\u001b[0m\n\u001b[0;32m   1504\u001b[0m         \u001b[1;32mtry\u001b[0m\u001b[1;33m:\u001b[0m\u001b[1;33m\u001b[0m\u001b[1;33m\u001b[0m\u001b[0m\n\u001b[1;32m-> 1505\u001b[1;33m             \u001b[0mresult\u001b[0m \u001b[1;33m=\u001b[0m \u001b[0mexpressions\u001b[0m\u001b[1;33m.\u001b[0m\u001b[0mevaluate\u001b[0m\u001b[1;33m(\u001b[0m\u001b[0mop\u001b[0m\u001b[1;33m,\u001b[0m \u001b[0mstr_rep\u001b[0m\u001b[1;33m,\u001b[0m \u001b[0mx\u001b[0m\u001b[1;33m,\u001b[0m \u001b[0my\u001b[0m\u001b[1;33m,\u001b[0m \u001b[1;33m**\u001b[0m\u001b[0meval_kwargs\u001b[0m\u001b[1;33m)\u001b[0m\u001b[1;33m\u001b[0m\u001b[1;33m\u001b[0m\u001b[0m\n\u001b[0m\u001b[0;32m   1506\u001b[0m         \u001b[1;32mexcept\u001b[0m \u001b[0mTypeError\u001b[0m\u001b[1;33m:\u001b[0m\u001b[1;33m\u001b[0m\u001b[1;33m\u001b[0m\u001b[0m\n",
      "\u001b[1;32m~\\AppData\\Local\\Continuum\\anaconda3\\lib\\site-packages\\pandas\\core\\computation\\expressions.py\u001b[0m in \u001b[0;36mevaluate\u001b[1;34m(op, op_str, a, b, use_numexpr, **eval_kwargs)\u001b[0m\n\u001b[0;32m    207\u001b[0m     \u001b[1;32mif\u001b[0m \u001b[0muse_numexpr\u001b[0m\u001b[1;33m:\u001b[0m\u001b[1;33m\u001b[0m\u001b[1;33m\u001b[0m\u001b[0m\n\u001b[1;32m--> 208\u001b[1;33m         \u001b[1;32mreturn\u001b[0m \u001b[0m_evaluate\u001b[0m\u001b[1;33m(\u001b[0m\u001b[0mop\u001b[0m\u001b[1;33m,\u001b[0m \u001b[0mop_str\u001b[0m\u001b[1;33m,\u001b[0m \u001b[0ma\u001b[0m\u001b[1;33m,\u001b[0m \u001b[0mb\u001b[0m\u001b[1;33m,\u001b[0m \u001b[1;33m**\u001b[0m\u001b[0meval_kwargs\u001b[0m\u001b[1;33m)\u001b[0m\u001b[1;33m\u001b[0m\u001b[1;33m\u001b[0m\u001b[0m\n\u001b[0m\u001b[0;32m    209\u001b[0m     \u001b[1;32mreturn\u001b[0m \u001b[0m_evaluate_standard\u001b[0m\u001b[1;33m(\u001b[0m\u001b[0mop\u001b[0m\u001b[1;33m,\u001b[0m \u001b[0mop_str\u001b[0m\u001b[1;33m,\u001b[0m \u001b[0ma\u001b[0m\u001b[1;33m,\u001b[0m \u001b[0mb\u001b[0m\u001b[1;33m)\u001b[0m\u001b[1;33m\u001b[0m\u001b[1;33m\u001b[0m\u001b[0m\n",
      "\u001b[1;32m~\\AppData\\Local\\Continuum\\anaconda3\\lib\\site-packages\\pandas\\core\\computation\\expressions.py\u001b[0m in \u001b[0;36m_evaluate_numexpr\u001b[1;34m(op, op_str, a, b, truediv, reversed, **eval_kwargs)\u001b[0m\n\u001b[0;32m    122\u001b[0m     \u001b[1;32mif\u001b[0m \u001b[0mresult\u001b[0m \u001b[1;32mis\u001b[0m \u001b[1;32mNone\u001b[0m\u001b[1;33m:\u001b[0m\u001b[1;33m\u001b[0m\u001b[1;33m\u001b[0m\u001b[0m\n\u001b[1;32m--> 123\u001b[1;33m         \u001b[0mresult\u001b[0m \u001b[1;33m=\u001b[0m \u001b[0m_evaluate_standard\u001b[0m\u001b[1;33m(\u001b[0m\u001b[0mop\u001b[0m\u001b[1;33m,\u001b[0m \u001b[0mop_str\u001b[0m\u001b[1;33m,\u001b[0m \u001b[0ma\u001b[0m\u001b[1;33m,\u001b[0m \u001b[0mb\u001b[0m\u001b[1;33m)\u001b[0m\u001b[1;33m\u001b[0m\u001b[1;33m\u001b[0m\u001b[0m\n\u001b[0m\u001b[0;32m    124\u001b[0m \u001b[1;33m\u001b[0m\u001b[0m\n",
      "\u001b[1;32m~\\AppData\\Local\\Continuum\\anaconda3\\lib\\site-packages\\pandas\\core\\computation\\expressions.py\u001b[0m in \u001b[0;36m_evaluate_standard\u001b[1;34m(op, op_str, a, b, **eval_kwargs)\u001b[0m\n\u001b[0;32m     67\u001b[0m     \u001b[1;32mwith\u001b[0m \u001b[0mnp\u001b[0m\u001b[1;33m.\u001b[0m\u001b[0merrstate\u001b[0m\u001b[1;33m(\u001b[0m\u001b[0mall\u001b[0m\u001b[1;33m=\u001b[0m\u001b[1;34m'ignore'\u001b[0m\u001b[1;33m)\u001b[0m\u001b[1;33m:\u001b[0m\u001b[1;33m\u001b[0m\u001b[1;33m\u001b[0m\u001b[0m\n\u001b[1;32m---> 68\u001b[1;33m         \u001b[1;32mreturn\u001b[0m \u001b[0mop\u001b[0m\u001b[1;33m(\u001b[0m\u001b[0ma\u001b[0m\u001b[1;33m,\u001b[0m \u001b[0mb\u001b[0m\u001b[1;33m)\u001b[0m\u001b[1;33m\u001b[0m\u001b[1;33m\u001b[0m\u001b[0m\n\u001b[0m\u001b[0;32m     69\u001b[0m \u001b[1;33m\u001b[0m\u001b[0m\n",
      "\u001b[1;31mTypeError\u001b[0m: unsupported operand type(s) for /: 'int' and 'str'",
      "\nDuring handling of the above exception, another exception occurred:\n",
      "\u001b[1;31mTypeError\u001b[0m                                 Traceback (most recent call last)",
      "\u001b[1;32m<ipython-input-3-a2a269d15afd>\u001b[0m in \u001b[0;36m<module>\u001b[1;34m\u001b[0m\n\u001b[0;32m      1\u001b[0m \u001b[1;31m#Need to clean data first\u001b[0m\u001b[1;33m\u001b[0m\u001b[1;33m\u001b[0m\u001b[1;33m\u001b[0m\u001b[0m\n\u001b[0;32m      2\u001b[0m \u001b[0mdf\u001b[0m\u001b[1;33m[\u001b[0m\u001b[1;34m'CPA'\u001b[0m\u001b[1;33m]\u001b[0m\u001b[1;33m=\u001b[0m\u001b[0mdf\u001b[0m\u001b[1;33m[\u001b[0m\u001b[1;34m'Cost'\u001b[0m\u001b[1;33m]\u001b[0m\u001b[1;33m/\u001b[0m\u001b[0mdf\u001b[0m\u001b[1;33m[\u001b[0m\u001b[1;34m'Conversions'\u001b[0m\u001b[1;33m]\u001b[0m\u001b[1;33m\u001b[0m\u001b[1;33m\u001b[0m\u001b[0m\n\u001b[1;32m----> 3\u001b[1;33m \u001b[0mdf\u001b[0m\u001b[1;33m[\u001b[0m\u001b[1;34m'CTR'\u001b[0m\u001b[1;33m]\u001b[0m\u001b[1;33m=\u001b[0m\u001b[0mdf\u001b[0m\u001b[1;33m[\u001b[0m\u001b[1;34m'Clicks'\u001b[0m\u001b[1;33m]\u001b[0m\u001b[1;33m/\u001b[0m\u001b[0mdf\u001b[0m\u001b[1;33m[\u001b[0m\u001b[1;34m'Impressions'\u001b[0m\u001b[1;33m]\u001b[0m\u001b[1;33m\u001b[0m\u001b[1;33m\u001b[0m\u001b[0m\n\u001b[0m\u001b[0;32m      4\u001b[0m \u001b[0mdf\u001b[0m\u001b[1;33m[\u001b[0m\u001b[1;34m'CPC'\u001b[0m\u001b[1;33m]\u001b[0m\u001b[1;33m=\u001b[0m\u001b[0mdf\u001b[0m\u001b[1;33m[\u001b[0m\u001b[1;34m'Cost'\u001b[0m\u001b[1;33m]\u001b[0m\u001b[1;33m/\u001b[0m\u001b[0mdf\u001b[0m\u001b[1;33m[\u001b[0m\u001b[1;34m'Clicks'\u001b[0m\u001b[1;33m]\u001b[0m\u001b[1;33m\u001b[0m\u001b[1;33m\u001b[0m\u001b[0m\n",
      "\u001b[1;32m~\\AppData\\Local\\Continuum\\anaconda3\\lib\\site-packages\\pandas\\core\\ops.py\u001b[0m in \u001b[0;36mwrapper\u001b[1;34m(left, right)\u001b[0m\n\u001b[0;32m   1581\u001b[0m             \u001b[0mrvalues\u001b[0m \u001b[1;33m=\u001b[0m \u001b[0mrvalues\u001b[0m\u001b[1;33m.\u001b[0m\u001b[0mvalues\u001b[0m\u001b[1;33m\u001b[0m\u001b[1;33m\u001b[0m\u001b[0m\n\u001b[0;32m   1582\u001b[0m \u001b[1;33m\u001b[0m\u001b[0m\n\u001b[1;32m-> 1583\u001b[1;33m         \u001b[0mresult\u001b[0m \u001b[1;33m=\u001b[0m \u001b[0msafe_na_op\u001b[0m\u001b[1;33m(\u001b[0m\u001b[0mlvalues\u001b[0m\u001b[1;33m,\u001b[0m \u001b[0mrvalues\u001b[0m\u001b[1;33m)\u001b[0m\u001b[1;33m\u001b[0m\u001b[1;33m\u001b[0m\u001b[0m\n\u001b[0m\u001b[0;32m   1584\u001b[0m         return construct_result(left, result,\n\u001b[0;32m   1585\u001b[0m                                 index=left.index, name=res_name, dtype=None)\n",
      "\u001b[1;32m~\\AppData\\Local\\Continuum\\anaconda3\\lib\\site-packages\\pandas\\core\\ops.py\u001b[0m in \u001b[0;36msafe_na_op\u001b[1;34m(lvalues, rvalues)\u001b[0m\n\u001b[0;32m   1527\u001b[0m         \u001b[1;32mtry\u001b[0m\u001b[1;33m:\u001b[0m\u001b[1;33m\u001b[0m\u001b[1;33m\u001b[0m\u001b[0m\n\u001b[0;32m   1528\u001b[0m             \u001b[1;32mwith\u001b[0m \u001b[0mnp\u001b[0m\u001b[1;33m.\u001b[0m\u001b[0merrstate\u001b[0m\u001b[1;33m(\u001b[0m\u001b[0mall\u001b[0m\u001b[1;33m=\u001b[0m\u001b[1;34m'ignore'\u001b[0m\u001b[1;33m)\u001b[0m\u001b[1;33m:\u001b[0m\u001b[1;33m\u001b[0m\u001b[1;33m\u001b[0m\u001b[0m\n\u001b[1;32m-> 1529\u001b[1;33m                 \u001b[1;32mreturn\u001b[0m \u001b[0mna_op\u001b[0m\u001b[1;33m(\u001b[0m\u001b[0mlvalues\u001b[0m\u001b[1;33m,\u001b[0m \u001b[0mrvalues\u001b[0m\u001b[1;33m)\u001b[0m\u001b[1;33m\u001b[0m\u001b[1;33m\u001b[0m\u001b[0m\n\u001b[0m\u001b[0;32m   1530\u001b[0m         \u001b[1;32mexcept\u001b[0m \u001b[0mException\u001b[0m\u001b[1;33m:\u001b[0m\u001b[1;33m\u001b[0m\u001b[1;33m\u001b[0m\u001b[0m\n\u001b[0;32m   1531\u001b[0m             \u001b[1;32mif\u001b[0m \u001b[0mis_object_dtype\u001b[0m\u001b[1;33m(\u001b[0m\u001b[0mlvalues\u001b[0m\u001b[1;33m)\u001b[0m\u001b[1;33m:\u001b[0m\u001b[1;33m\u001b[0m\u001b[1;33m\u001b[0m\u001b[0m\n",
      "\u001b[1;32m~\\AppData\\Local\\Continuum\\anaconda3\\lib\\site-packages\\pandas\\core\\ops.py\u001b[0m in \u001b[0;36mna_op\u001b[1;34m(x, y)\u001b[0m\n\u001b[0;32m   1505\u001b[0m             \u001b[0mresult\u001b[0m \u001b[1;33m=\u001b[0m \u001b[0mexpressions\u001b[0m\u001b[1;33m.\u001b[0m\u001b[0mevaluate\u001b[0m\u001b[1;33m(\u001b[0m\u001b[0mop\u001b[0m\u001b[1;33m,\u001b[0m \u001b[0mstr_rep\u001b[0m\u001b[1;33m,\u001b[0m \u001b[0mx\u001b[0m\u001b[1;33m,\u001b[0m \u001b[0my\u001b[0m\u001b[1;33m,\u001b[0m \u001b[1;33m**\u001b[0m\u001b[0meval_kwargs\u001b[0m\u001b[1;33m)\u001b[0m\u001b[1;33m\u001b[0m\u001b[1;33m\u001b[0m\u001b[0m\n\u001b[0;32m   1506\u001b[0m         \u001b[1;32mexcept\u001b[0m \u001b[0mTypeError\u001b[0m\u001b[1;33m:\u001b[0m\u001b[1;33m\u001b[0m\u001b[1;33m\u001b[0m\u001b[0m\n\u001b[1;32m-> 1507\u001b[1;33m             \u001b[0mresult\u001b[0m \u001b[1;33m=\u001b[0m \u001b[0mmasked_arith_op\u001b[0m\u001b[1;33m(\u001b[0m\u001b[0mx\u001b[0m\u001b[1;33m,\u001b[0m \u001b[0my\u001b[0m\u001b[1;33m,\u001b[0m \u001b[0mop\u001b[0m\u001b[1;33m)\u001b[0m\u001b[1;33m\u001b[0m\u001b[1;33m\u001b[0m\u001b[0m\n\u001b[0m\u001b[0;32m   1508\u001b[0m \u001b[1;33m\u001b[0m\u001b[0m\n\u001b[0;32m   1509\u001b[0m         \u001b[0mresult\u001b[0m \u001b[1;33m=\u001b[0m \u001b[0mmissing\u001b[0m\u001b[1;33m.\u001b[0m\u001b[0mfill_zeros\u001b[0m\u001b[1;33m(\u001b[0m\u001b[0mresult\u001b[0m\u001b[1;33m,\u001b[0m \u001b[0mx\u001b[0m\u001b[1;33m,\u001b[0m \u001b[0my\u001b[0m\u001b[1;33m,\u001b[0m \u001b[0mop_name\u001b[0m\u001b[1;33m,\u001b[0m \u001b[0mfill_zeros\u001b[0m\u001b[1;33m)\u001b[0m\u001b[1;33m\u001b[0m\u001b[1;33m\u001b[0m\u001b[0m\n",
      "\u001b[1;32m~\\AppData\\Local\\Continuum\\anaconda3\\lib\\site-packages\\pandas\\core\\ops.py\u001b[0m in \u001b[0;36mmasked_arith_op\u001b[1;34m(x, y, op)\u001b[0m\n\u001b[0;32m   1007\u001b[0m             \u001b[1;32mwith\u001b[0m \u001b[0mnp\u001b[0m\u001b[1;33m.\u001b[0m\u001b[0merrstate\u001b[0m\u001b[1;33m(\u001b[0m\u001b[0mall\u001b[0m\u001b[1;33m=\u001b[0m\u001b[1;34m'ignore'\u001b[0m\u001b[1;33m)\u001b[0m\u001b[1;33m:\u001b[0m\u001b[1;33m\u001b[0m\u001b[1;33m\u001b[0m\u001b[0m\n\u001b[0;32m   1008\u001b[0m                 result[mask] = op(xrav[mask],\n\u001b[1;32m-> 1009\u001b[1;33m                                   com.values_from_object(yrav[mask]))\n\u001b[0m\u001b[0;32m   1010\u001b[0m \u001b[1;33m\u001b[0m\u001b[0m\n\u001b[0;32m   1011\u001b[0m     \u001b[1;32melse\u001b[0m\u001b[1;33m:\u001b[0m\u001b[1;33m\u001b[0m\u001b[1;33m\u001b[0m\u001b[0m\n",
      "\u001b[1;31mTypeError\u001b[0m: unsupported operand type(s) for /: 'int' and 'str'"
     ]
    }
   ],
   "source": [
    "#Need to clean data first\n",
    "df['CPA']=df['Cost']/df['Conversions']\n",
    "df['CTR']=df['Clicks']/df['Impressions']\n",
    "df['CPC']=df['Cost']/df['Clicks']"
   ]
  },
  {
   "cell_type": "code",
   "execution_count": 22,
   "metadata": {},
   "outputs": [],
   "source": [
    "#turning data into stationary time series\n",
    "from statsmodels.graphics.tsaplots import plot_acf, plot_pacf"
   ]
  },
  {
   "cell_type": "code",
   "execution_count": 23,
   "metadata": {},
   "outputs": [
    {
     "data": {
      "image/png": "[encoded data removed]",
      "text/plain": [
       "<Figure size 432x288 with 1 Axes>"
      ]
     },
     "metadata": {
      "needs_background": "light"
     },
     "output_type": "display_data"
    }
   ],
   "source": [
    "stationary_data = df['Conversions'].diff().diff(periods=12)[13:]\n",
    "x=plot_acf(stationary_data,lags=40)"
   ]
  },
  {
   "cell_type": "code",
   "execution_count": 19,
   "metadata": {},
   "outputs": [
    {
     "name": "stdout",
     "output_type": "stream",
     "text": [
      "                             ARIMA Model Results                              \n",
      "==============================================================================\n",
      "Dep. Variable:          D.Conversions   No. Observations:                  935\n",
      "Model:                 ARIMA(2, 1, 1)   Log Likelihood               -3475.089\n",
      "Method:                       css-mle   S.D. of innovations              9.916\n",
      "Date:                Mon, 26 Aug 2019   AIC                           6960.179\n",
      "Time:                        20:27:27   BIC                           6984.382\n",
      "Sample:                             1   HQIC                          6969.408\n",
      "                                                                              \n",
      "=======================================================================================\n",
      "                          coef    std err          z      P>|z|      [0.025      0.975]\n",
      "---------------------------------------------------------------------------------------\n",
      "const                  -0.0018      0.001     -1.376      0.169      -0.004       0.001\n",
      "ar.L1.D.Conversions     0.0762      0.033      2.330      0.020       0.012       0.140\n",
      "ar.L2.D.Conversions     0.0049      0.033      0.149      0.881      -0.059       0.069\n",
      "ma.L1.D.Conversions    -1.0000      0.003   -336.127      0.000      -1.006      -0.994\n",
      "                                    Roots                                    \n",
      "=============================================================================\n",
      "                  Real          Imaginary           Modulus         Frequency\n",
      "-----------------------------------------------------------------------------\n",
      "AR.1            8.4903           +0.0000j            8.4903            0.0000\n",
      "AR.2          -24.0769           +0.0000j           24.0769            0.5000\n",
      "MA.1            1.0000           +0.0000j            1.0000            0.0000\n",
      "-----------------------------------------------------------------------------\n"
     ]
    }
   ],
   "source": [
    "#Predicting for Conversions\n",
    "import warnings\n",
    "warnings.simplefilter('ignore')\n",
    "\n",
    "from statsmodels.tsa.arima_model import ARIMA\n",
    "\n",
    "model = ARIMA(df['Conversions'], order=(2, 1, 1))\n",
    "results = model.fit()\n",
    "print(results.summary())"
   ]
  },
  {
   "cell_type": "code",
   "execution_count": 5,
   "metadata": {},
   "outputs": [
    {
     "data": {
      "text/plain": [
       "(array([12.99529593]),\n",
       " array([9.91613637]),\n",
       " array([[-6.43997422, 32.43056609]]))"
      ]
     },
     "execution_count": 5,
     "metadata": {},
     "output_type": "execute_result"
    }
   ],
   "source": [
    "results.forecast()"
   ]
  },
  {
   "cell_type": "code",
   "execution_count": 6,
   "metadata": {
    "collapsed": true,
    "jupyter": {
     "outputs_hidden": true
    }
   },
   "outputs": [
    {
     "data": {
      "text/plain": [
       "(array([12.99529593, 13.55636909, 13.63171907, 13.6385586 , 13.63779831,\n",
       "        13.63612341, 13.63434159, 13.63254715, 13.63075122, 13.62895512,\n",
       "        13.62715899, 13.62536287, 13.62356674, 13.62177061, 13.61997449,\n",
       "        13.61817836, 13.61638223, 13.61458611, 13.61278998, 13.61099385,\n",
       "        13.60919773, 13.6074016 , 13.60560547, 13.60380935, 13.60201322,\n",
       "        13.60021709, 13.59842097, 13.59662484, 13.59482871, 13.59303259,\n",
       "        13.59123646]),\n",
       " array([9.91613637, 9.94491914, 9.94548573, 9.94549272, 9.94549282,\n",
       "        9.94549283, 9.94549283, 9.94549283, 9.94549283, 9.94549283,\n",
       "        9.94549283, 9.94549283, 9.94549283, 9.94549283, 9.94549283,\n",
       "        9.94549283, 9.94549283, 9.94549283, 9.94549283, 9.94549283,\n",
       "        9.94549283, 9.94549283, 9.94549283, 9.94549283, 9.94549283,\n",
       "        9.94549283, 9.94549283, 9.94549283, 9.94549283, 9.94549283,\n",
       "        9.94549283]),\n",
       " array([[-6.43997422, 32.43056609],\n",
       "        [-5.93531426, 33.04805244],\n",
       "        [-5.86107477, 33.12451291],\n",
       "        [-5.85424894, 33.13136615],\n",
       "        [-5.85500944, 33.13060605],\n",
       "        [-5.85668434, 33.12893115],\n",
       "        [-5.85846616, 33.12714934],\n",
       "        [-5.8602606 , 33.1253549 ],\n",
       "        [-5.86205653, 33.12355897],\n",
       "        [-5.86385263, 33.12176286],\n",
       "        [-5.86564875, 33.11996674],\n",
       "        [-5.86744488, 33.11817061],\n",
       "        [-5.86924101, 33.11637449],\n",
       "        [-5.87103713, 33.11457836],\n",
       "        [-5.87283326, 33.11278223],\n",
       "        [-5.87462939, 33.11098611],\n",
       "        [-5.87642551, 33.10918998],\n",
       "        [-5.87822164, 33.10739385],\n",
       "        [-5.88001777, 33.10559773],\n",
       "        [-5.88181389, 33.1038016 ],\n",
       "        [-5.88361002, 33.10200547],\n",
       "        [-5.88540615, 33.10020935],\n",
       "        [-5.88720227, 33.09841322],\n",
       "        [-5.8889984 , 33.09661709],\n",
       "        [-5.89079453, 33.09482097],\n",
       "        [-5.89259065, 33.09302484],\n",
       "        [-5.89438678, 33.09122872],\n",
       "        [-5.89618291, 33.08943259],\n",
       "        [-5.89797903, 33.08763646],\n",
       "        [-5.89977516, 33.08584034],\n",
       "        [-5.90157129, 33.08404421]]))"
      ]
     },
     "execution_count": 6,
     "metadata": {},
     "output_type": "execute_result"
    }
   ],
   "source": [
    "results.forecast(steps=31)"
   ]
  },
  {
   "cell_type": "code",
   "execution_count": 7,
   "metadata": {},
   "outputs": [
    {
     "data": {
      "text/plain": [
       "6960.178969248297"
      ]
     },
     "execution_count": 7,
     "metadata": {},
     "output_type": "execute_result"
    }
   ],
   "source": [
    "results.aic"
   ]
  },
  {
   "cell_type": "code",
   "execution_count": 8,
   "metadata": {},
   "outputs": [],
   "source": [
    "all = results.forecast(steps=31)[0][0:30]"
   ]
  },
  {
   "cell_type": "code",
   "execution_count": 9,
   "metadata": {},
   "outputs": [
    {
     "data": {
      "text/plain": [
       "407.8243752965003"
      ]
     },
     "execution_count": 9,
     "metadata": {},
     "output_type": "execute_result"
    }
   ],
   "source": [
    "#how many conversions next month\n",
    "sum(all)"
   ]
  },
  {
   "cell_type": "code",
   "execution_count": null,
   "metadata": {},
   "outputs": [],
   "source": []
  },
  {
   "cell_type": "code",
   "execution_count": 20,
   "metadata": {},
   "outputs": [
    {
     "data": {
      "image/png": "[encoded data removed]",
      "text/plain": [
       "<Figure size 432x288 with 1 Axes>"
      ]
     },
     "metadata": {
      "needs_background": "light"
     },
     "output_type": "display_data"
    }
   ],
   "source": [
    "#Predicted for Cost\n",
    "stationary_data2 = df['Cost'].diff().diff(periods=12)[13:]\n",
    "x2=plot_acf(stationary_data2,lags=40)"
   ]
  },
  {
   "cell_type": "code",
   "execution_count": 11,
   "metadata": {},
   "outputs": [
    {
     "name": "stdout",
     "output_type": "stream",
     "text": [
      "                             ARIMA Model Results                              \n",
      "==============================================================================\n",
      "Dep. Variable:                 D.Cost   No. Observations:                  935\n",
      "Model:                 ARIMA(2, 1, 1)   Log Likelihood               -9077.031\n",
      "Method:                       css-mle   S.D. of innovations           3966.138\n",
      "Date:                Mon, 26 Aug 2019   AIC                          18164.062\n",
      "Time:                        20:26:57   BIC                          18188.265\n",
      "Sample:                             1   HQIC                         18173.291\n",
      "                                                                              \n",
      "================================================================================\n",
      "                   coef    std err          z      P>|z|      [0.025      0.975]\n",
      "--------------------------------------------------------------------------------\n",
      "const           -0.9908      0.521     -1.902      0.057      -2.012       0.030\n",
      "ar.L1.D.Cost     0.0936      0.033      2.860      0.004       0.029       0.158\n",
      "ar.L2.D.Cost    -0.0146      0.033     -0.445      0.657      -0.079       0.050\n",
      "ma.L1.D.Cost    -1.0000      0.003   -321.811      0.000      -1.006      -0.994\n",
      "                                    Roots                                    \n",
      "=============================================================================\n",
      "                  Real          Imaginary           Modulus         Frequency\n",
      "-----------------------------------------------------------------------------\n",
      "AR.1            3.2135           -7.6383j            8.2867           -0.1866\n",
      "AR.2            3.2135           +7.6383j            8.2867            0.1866\n",
      "MA.1            1.0000           +0.0000j            1.0000            0.0000\n",
      "-----------------------------------------------------------------------------\n"
     ]
    }
   ],
   "source": [
    "import warnings\n",
    "warnings.simplefilter('ignore')\n",
    "\n",
    "from statsmodels.tsa.arima_model import ARIMA\n",
    "\n",
    "model2 = ARIMA(df['Cost'], order=(2, 1, 1))\n",
    "results2 = model2.fit()\n",
    "print(results2.summary())"
   ]
  },
  {
   "cell_type": "code",
   "execution_count": 12,
   "metadata": {},
   "outputs": [
    {
     "data": {
      "text/plain": [
       "(array([5259.85098253]),\n",
       " array([3966.13804288]),\n",
       " array([[-2513.63673924, 13033.3387043 ]]))"
      ]
     },
     "execution_count": 12,
     "metadata": {},
     "output_type": "execute_result"
    }
   ],
   "source": [
    "results2.forecast()"
   ]
  },
  {
   "cell_type": "code",
   "execution_count": 13,
   "metadata": {
    "collapsed": true,
    "jupyter": {
     "outputs_hidden": true
    }
   },
   "outputs": [
    {
     "data": {
      "text/plain": [
       "(array([5259.85098253, 5655.29635131, 5628.26770441, 5619.06688034,\n",
       "        5617.68681936, 5616.77910294, 5615.80170529, 5614.81090758,\n",
       "        5613.81987046, 5612.82900607, 5611.83816133, 5610.84731592,\n",
       "        5609.85647016, 5608.86562437, 5607.87477859, 5606.8839328 ,\n",
       "        5605.89308702, 5604.90224124, 5603.91139545, 5602.92054967,\n",
       "        5601.92970389, 5600.9388581 , 5599.94801232, 5598.95716654,\n",
       "        5597.96632076, 5596.97547497, 5595.98462919, 5594.99378341,\n",
       "        5594.00293762, 5593.01209184, 5592.02124606]),\n",
       " array([3966.13804288, 3983.47614236, 3983.54226359, 3983.54931742,\n",
       "        3983.54932944, 3983.54933183, 3983.54933255, 3983.54933304,\n",
       "        3983.54933354, 3983.54933403, 3983.54933453, 3983.54933503,\n",
       "        3983.54933552, 3983.54933602, 3983.54933652, 3983.54933701,\n",
       "        3983.54933751, 3983.549338  , 3983.5493385 , 3983.549339  ,\n",
       "        3983.54933949, 3983.54933999, 3983.54934049, 3983.54934098,\n",
       "        3983.54934148, 3983.54934198, 3983.54934247, 3983.54934297,\n",
       "        3983.54934347, 3983.54934396, 3983.54934446]),\n",
       " array([[-2513.63673924, 13033.3387043 ],\n",
       "        [-2152.17342099, 13462.7661236 ],\n",
       "        [-2179.33166312, 13435.86707194],\n",
       "        [-2188.54631244, 13426.68007312],\n",
       "        [-2189.92639698, 13425.3000357 ],\n",
       "        [-2190.83411809, 13424.39232398],\n",
       "        [-2191.81151714, 13423.41492772],\n",
       "        [-2192.80231582, 13422.42413099],\n",
       "        [-2193.79335391, 13421.43309483],\n",
       "        [-2194.78421927, 13420.44223142],\n",
       "        [-2195.77506498, 13419.45138765],\n",
       "        [-2196.76591137, 13418.46054321],\n",
       "        [-2197.75675811, 13417.46969842],\n",
       "        [-2198.74760487, 13416.47885361],\n",
       "        [-2199.73845162, 13415.48800879],\n",
       "        [-2200.72929838, 13414.49716398],\n",
       "        [-2201.72014514, 13413.50631917],\n",
       "        [-2202.71099189, 13412.51547436],\n",
       "        [-2203.70183865, 13411.52462955],\n",
       "        [-2204.6926854 , 13410.53378474],\n",
       "        [-2205.68353216, 13409.54293993],\n",
       "        [-2206.67437892, 13408.55209512],\n",
       "        [-2207.66522567, 13407.56125031],\n",
       "        [-2208.65607243, 13406.5704055 ],\n",
       "        [-2209.64691918, 13405.57956069],\n",
       "        [-2210.63776594, 13404.58871588],\n",
       "        [-2211.62861269, 13403.59787107],\n",
       "        [-2212.61945945, 13402.60702626],\n",
       "        [-2213.61030621, 13401.61618145],\n",
       "        [-2214.60115296, 13400.62533664],\n",
       "        [-2215.59199972, 13399.63449183]]))"
      ]
     },
     "execution_count": 13,
     "metadata": {},
     "output_type": "execute_result"
    }
   ],
   "source": [
    "results2.forecast(steps=31)"
   ]
  },
  {
   "cell_type": "code",
   "execution_count": 14,
   "metadata": {},
   "outputs": [
    {
     "data": {
      "text/plain": [
       "18164.06249040481"
      ]
     },
     "execution_count": 14,
     "metadata": {},
     "output_type": "execute_result"
    }
   ],
   "source": [
    "results2.aic"
   ]
  },
  {
   "cell_type": "code",
   "execution_count": 15,
   "metadata": {},
   "outputs": [],
   "source": [
    "all2 = results2.forecast(steps=31)[0][0:30]"
   ]
  },
  {
   "cell_type": "code",
   "execution_count": 16,
   "metadata": {},
   "outputs": [
    {
     "data": {
      "text/plain": [
       "167902.71186547188"
      ]
     },
     "execution_count": 16,
     "metadata": {},
     "output_type": "execute_result"
    }
   ],
   "source": [
    "#how many conversions next month\n",
    "sum(all2)"
   ]
  },
  {
   "cell_type": "code",
   "execution_count": 17,
   "metadata": {},
   "outputs": [
    {
     "data": {
      "text/plain": [
       "411.7034734458961"
      ]
     },
     "execution_count": 17,
     "metadata": {},
     "output_type": "execute_result"
    }
   ],
   "source": [
    "sum(all2)/sum(all)"
   ]
  }
 ],
 "metadata": {
  "kernelspec": {
   "display_name": "Python 3",
   "language": "python",
   "name": "python3"
  },
  "language_info": {
   "codemirror_mode": {
    "name": "ipython",
    "version": 3
   },
   "file_extension": ".py",
   "mimetype": "text/x-python",
   "name": "python",
   "nbconvert_exporter": "python",
   "pygments_lexer": "ipython3",
   "version": "3.7.3"
  }
 },
 "nbformat": 4,
 "nbformat_minor": 4
}
