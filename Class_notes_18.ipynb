{
 "cells": [
  {
   "cell_type": "code",
   "execution_count": 18,
   "metadata": {},
   "outputs": [
    {
     "data": {
      "text/html": [
       "<div>\n",
       "<style scoped>\n",
       "    .dataframe tbody tr th:only-of-type {\n",
       "        vertical-align: middle;\n",
       "    }\n",
       "\n",
       "    .dataframe tbody tr th {\n",
       "        vertical-align: top;\n",
       "    }\n",
       "\n",
       "    .dataframe thead th {\n",
       "        text-align: right;\n",
       "    }\n",
       "</style>\n",
       "<table border=\"1\" class=\"dataframe\">\n",
       "  <thead>\n",
       "    <tr style=\"text-align: right;\">\n",
       "      <th></th>\n",
       "      <th>Births</th>\n",
       "    </tr>\n",
       "    <tr>\n",
       "      <th>Date</th>\n",
       "      <th></th>\n",
       "    </tr>\n",
       "  </thead>\n",
       "  <tbody>\n",
       "    <tr>\n",
       "      <th>1959-01-01</th>\n",
       "      <td>35</td>\n",
       "    </tr>\n",
       "    <tr>\n",
       "      <th>1959-01-02</th>\n",
       "      <td>32</td>\n",
       "    </tr>\n",
       "    <tr>\n",
       "      <th>1959-01-03</th>\n",
       "      <td>30</td>\n",
       "    </tr>\n",
       "    <tr>\n",
       "      <th>1959-01-04</th>\n",
       "      <td>31</td>\n",
       "    </tr>\n",
       "    <tr>\n",
       "      <th>1959-01-05</th>\n",
       "      <td>44</td>\n",
       "    </tr>\n",
       "  </tbody>\n",
       "</table>\n",
       "</div>"
      ],
      "text/plain": [
       "            Births\n",
       "Date              \n",
       "1959-01-01      35\n",
       "1959-01-02      32\n",
       "1959-01-03      30\n",
       "1959-01-04      31\n",
       "1959-01-05      44"
      ]
     },
     "execution_count": 18,
     "metadata": {},
     "output_type": "execute_result"
    }
   ],
   "source": [
    "import pandas as pd\n",
    "import numpy as np\n",
    "%matplotlib inline\n",
    "\n",
    "df= pd.read_csv('births.csv', index_col='Date',parse_dates=True)\n",
    "df.head()"
   ]
  },
  {
   "cell_type": "code",
   "execution_count": 23,
   "metadata": {},
   "outputs": [
    {
     "data": {
      "text/plain": [
       "Date\n",
       "1959-01-01    -6.980822\n",
       "1959-01-02    -9.980822\n",
       "1959-01-03   -11.980822\n",
       "1959-01-04   -10.980822\n",
       "1959-01-05     2.019178\n",
       "Name: Births, dtype: float64"
      ]
     },
     "execution_count": 23,
     "metadata": {},
     "output_type": "execute_result"
    }
   ],
   "source": [
    "X_t=df[:-10]['Births'] - df['Births'].mean()\n",
    "X_t.head()"
   ]
  },
  {
   "cell_type": "code",
   "execution_count": 24,
   "metadata": {},
   "outputs": [
    {
     "data": {
      "text/plain": [
       "Date\n",
       "1959-01-11    -3.980822\n",
       "1959-01-12    -8.980822\n",
       "1959-01-13    13.019178\n",
       "1959-01-14     5.019178\n",
       "1959-01-15     3.019178\n",
       "Name: Births, dtype: float64"
      ]
     },
     "execution_count": 24,
     "metadata": {},
     "output_type": "execute_result"
    }
   ],
   "source": [
    "X_t_one = df[10:]['Births'] - df['Births'].mean()\n",
    "X_t_one.head()"
   ]
  },
  {
   "cell_type": "code",
   "execution_count": 25,
   "metadata": {
    "collapsed": true,
    "jupyter": {
     "outputs_hidden": true
    }
   },
   "outputs": [
    {
     "data": {
      "text/plain": [
       "array([ 2.77894089e+01,  8.96359842e+01, -1.55980454e+02, -5.51147007e+01,\n",
       "        6.09625821e+00,  6.46551623e+01,  2.42113267e+01,  1.03872396e+00,\n",
       "        3.90447739e+00, -1.50095523e+02,  3.17702308e+01, -9.89612760e+01,\n",
       "       -3.88078514e+01, -5.00955226e+01, -1.50379884e+01, -5.07634453e+00,\n",
       "       -2.39037418e+01, -7.11470069e+00, -1.98045412e+00, -3.98845637e+01,\n",
       "        1.43501738e+02, -2.09153057e+02,  3.27318746e+01, -2.01530569e+01,\n",
       "        1.98277651e+01,  8.17297054e+00,  1.18661212e+01, -6.29612760e+01,\n",
       "       -2.21722349e+01,  4.37126966e+01, -1.62172235e+02,  1.13520916e+02,\n",
       "       -3.31530569e+01,  1.82113267e+01,  3.17702308e+01,  8.03455733e+01,\n",
       "       -1.99804541e+01,  2.72305048e+01, -4.41338788e+01,  3.27318746e+01,\n",
       "        5.42880390e+01,  2.97894089e+01, -2.10763445e+01,  9.03647514e+01,\n",
       "       -1.53056859e-01,  3.02496829e+01, -1.49612760e+01, -1.50379884e+01,\n",
       "       -4.81530569e+01,  2.08085870e+01, -8.41530569e+01, -1.50379884e+01,\n",
       "        5.57126966e+01, -5.99229199e+01,  1.53792456e-01,  6.09625821e+00,\n",
       "        8.88529931e+00,  4.97126966e+01,  3.57126966e+01, -2.10763445e+01,\n",
       "       -1.42489473e+01, -8.99963220e+00,  8.76359842e+01,  8.95976281e+01,\n",
       "       -9.60763445e+01,  3.87239632e-02, -1.19804541e+01,  9.78940889e+00,\n",
       "        1.78277651e+01,  9.11543629e+00,  4.09625821e+00, -3.03798837e+00,\n",
       "        4.37126966e+01,  1.19559272e+02,  8.36359842e+01,  2.68860950e-01,\n",
       "       -2.40379884e+01,  9.78940889e+00, -4.79612760e+01, -2.96127604e+00,\n",
       "       -1.19804541e+01, -9.99632201e-01, -1.99804541e+01,  6.36935185e+01,\n",
       "        4.17510527e+01, -1.25903742e+02,  4.17510527e+01,  3.97318746e+01,\n",
       "       -3.19229199e+01,  7.82776506e+00, -3.28462075e+01,  7.82776506e+00,\n",
       "       -4.00571664e+01,  3.17702308e+01,  4.17510527e+01,  8.96359842e+01,\n",
       "       -1.33878777e-01,  3.17702308e+01, -1.59996322e+01,  9.56168062e+01,\n",
       "        4.42880390e+01, -2.40955226e+01, -9.59229199e+01,  3.17702308e+01,\n",
       "        3.47702308e+01,  6.96743404e+01, -3.79883655e-02, -1.53056859e-01,\n",
       "        6.43839294e+01, -1.08057166e+02, -4.01147007e+01, -2.10763445e+01,\n",
       "       -4.78462075e+01,  7.16743404e+01,  1.48469431e+01, -3.50379884e+01,\n",
       "        7.88529931e+00,  1.92148621e-01, -1.91922920e+02, -7.19804541e+01,\n",
       "        1.97702308e+01,  4.87318746e+01, -7.63445299e-02,  8.80858698e+00,\n",
       "       -5.71664477e-02, -1.99804541e+01,  7.15784500e+01, -7.99612760e+01,\n",
       "       -1.22105911e+01,  4.77318746e+01, -2.57886733e+01,  6.84694314e+00,\n",
       "        5.79020454e-02,  9.62011634e-01, -9.55226121e-02, -4.05716645e+00,\n",
       "        5.35976281e+01,  7.16743404e+01,  1.03872396e+00,  1.18469431e+01,\n",
       "       -5.18270295e+01, -2.96127604e+00,  1.21346144e+01,  7.82776506e+00,\n",
       "        3.47702308e+01,  6.13461437e+00, -2.68845637e+01,  5.37126966e+01,\n",
       "       -9.15305686e+00, -7.96127604e+00, -7.63445299e-02,  1.81729705e+01,\n",
       "       -3.20763445e+01,  7.82776506e+00,  4.87318746e+01, -1.19229199e+01,\n",
       "       -7.19804541e+01,  7.16551623e+01,  5.37126966e+01, -7.96127604e+00,\n",
       "       -5.71664477e-02,  1.81729705e+01,  3.17702308e+01, -4.92291987e+00,\n",
       "        6.26935185e+01,  2.37318746e+01, -1.53056859e-01, -1.22105911e+01,\n",
       "        5.86612122e+00,  1.94283355e+00, -5.07311391e+01,  3.07708013e+00,\n",
       "       -1.20188103e+01, -1.99804541e+01,  4.47318746e+01, -3.61722349e+01,\n",
       "        3.67798837e-04,  1.53072171e+01, -3.94209795e+00, -8.84620754e+00,\n",
       "       -1.66927829e+01,  5.11543629e+00, -4.82489473e+01,  2.77894089e+01,\n",
       "       -1.00571664e+01, -2.96127604e+00,  3.67798837e-04, -8.98270295e+01,\n",
       "        1.21346144e+01,  2.72305048e+01, -2.96127604e+00,  2.51921486e+01,\n",
       "        6.36168062e+01, -1.33878777e-01, -1.40955226e+01,  5.86612122e+00,\n",
       "       -5.71664477e-02, -1.80571664e+01,  3.07708013e+00,  1.51537925e+01,\n",
       "       -1.80571664e+01, -4.92291987e+00, -3.19229199e+01, -5.71664477e-02,\n",
       "        6.84694314e+00, -2.40379884e+01, -6.56352486e+01,  9.11543629e+00,\n",
       "       -8.13387878e+00, -1.99804541e+01, -1.20763445e+01, -5.90374179e+00,\n",
       "        3.22305048e+01, -6.01881028e+00,  4.88529931e+00, -1.19804541e+01,\n",
       "        4.44606418e+01,  9.11543629e+00,  7.16743404e+01, -8.03798837e+00,\n",
       "       -8.03798837e+00,  2.41921486e+01,  1.61537925e+01, -3.99963220e+00,\n",
       "        1.48469431e+01, -6.01881028e+00,  1.21537925e+01,  2.42113267e+01,\n",
       "        8.80858698e+00,  3.87239632e-02, -3.59037418e+01, -3.94209795e+00,\n",
       "        8.11543629e+00,  7.88529931e+00, -7.75585363e+01, -3.99963220e+00,\n",
       "        1.15436292e-01,  7.23263952e+01, -1.98045412e+00,  5.79020454e-02,\n",
       "       -5.39420980e+01, -1.47311391e+01,  4.07708013e+00, -7.63445299e-02,\n",
       "        2.86709957e+02, -3.79883655e-02, -1.53056859e-01, -1.78653856e+01,\n",
       "        2.83072171e+01,  6.09625821e+00, -6.59037418e+01,  1.95537354e+02,\n",
       "       -6.01881028e+00,  3.26395196e-01,  1.43460642e+02,  5.94888347e-01,\n",
       "       -1.03903742e+02, -3.99963220e+00,  1.42880390e+01, -3.99963220e+00,\n",
       "        5.53072171e+01,  1.17422286e+02, -4.17886733e+01,  1.19460642e+02,\n",
       "        1.56479820e+02,  4.34863381e+02,  6.53455733e+01,  4.07708013e+00,\n",
       "        1.03872396e+00, -3.79883655e-02,  1.51537925e+01,  7.23263952e+01,\n",
       "        8.43839294e+01,  7.15379246e+00, -2.38078514e+01,  2.38594888e+02,\n",
       "       -4.92291987e+00,  3.87239632e-02,  9.19214862e+00,  1.34614374e-01,\n",
       "        9.11543629e+00,  8.17297054e+00,  1.15436292e-01, -4.05716645e+00,\n",
       "       -9.94209795e+00, -6.77503171e+01,  5.86612122e+00,  3.67798837e-04,\n",
       "       -6.29612760e+01, -9.81338788e+01,  6.09625821e+00, -6.09552261e+00,\n",
       "        5.79020454e-02, -1.59996322e+01,  3.02113267e+01, -2.79420980e+01,\n",
       "       -6.09552261e+00,  3.67798837e-04, -1.18807851e+02, -4.22105911e+01,\n",
       "        2.02305048e+01, -2.40379884e+01,  5.79020454e-02, -7.96127604e+00,\n",
       "       -1.19229199e+01,  2.11921486e+01, -7.11470069e+00, -1.33878777e-01,\n",
       "       -3.37119610e+01, -8.99963220e+00, -8.99804541e+01,  7.70801276e-02,\n",
       "        9.62582098e-02, -1.78653856e+01, -3.99963220e+00, -5.98045412e+00,\n",
       "       -1.04846208e+02, -4.89996322e+01, -5.98045412e+00, -2.09229199e+01,\n",
       "       -8.09996322e+01,  7.70801276e-02,  1.01346144e+01,  9.03647514e+01,\n",
       "        6.09625821e+00,  1.97702308e+01,  6.03647514e+01, -6.88456371e+00,\n",
       "       -2.40955226e+01, -6.30379884e+01, -5.39420980e+01,  2.82113267e+01,\n",
       "        2.05790205e+00,  1.02113267e+01, -2.40955226e+01,  2.97510527e+01,\n",
       "       -2.80571664e+01, -9.82702946e+00, -4.00571664e+01, -8.99804541e+01,\n",
       "        1.78277651e+01, -1.39037418e+01,  1.95458810e-02,  1.95458810e-02,\n",
       "       -8.79420980e+01,  8.88529931e+00,  1.38277651e+01, -3.98845637e+01,\n",
       "        1.01346144e+01, -7.99612760e+01,  1.48469431e+01, -1.98462075e+01,\n",
       "        1.15436292e-01,  2.49682867e-01,  8.83647514e+01])"
      ]
     },
     "execution_count": 25,
     "metadata": {},
     "output_type": "execute_result"
    }
   ],
   "source": [
    "X_covar = X_t.values * X_t_one.values\n",
    "X_covar"
   ]
  },
  {
   "cell_type": "code",
   "execution_count": 26,
   "metadata": {},
   "outputs": [
    {
     "data": {
      "text/plain": [
       "2.5747994560649015"
      ]
     },
     "execution_count": 26,
     "metadata": {},
     "output_type": "execute_result"
    }
   ],
   "source": [
    "X_covar = X_covar.sum() * (1 / len(df))\n",
    "X_covar"
   ]
  },
  {
   "cell_type": "code",
   "execution_count": 27,
   "metadata": {},
   "outputs": [
    {
     "data": {
      "text/plain": [
       "53.996883937979796"
      ]
     },
     "execution_count": 27,
     "metadata": {},
     "output_type": "execute_result"
    }
   ],
   "source": [
    "df['Births'].var()"
   ]
  },
  {
   "cell_type": "code",
   "execution_count": 28,
   "metadata": {},
   "outputs": [
    {
     "data": {
      "text/plain": [
       "0.047684223019652146"
      ]
     },
     "execution_count": 28,
     "metadata": {},
     "output_type": "execute_result"
    }
   ],
   "source": [
    "X_covar / df['Births'].var()"
   ]
  },
  {
   "cell_type": "code",
   "execution_count": 29,
   "metadata": {},
   "outputs": [],
   "source": [
    "from statsmodels.tsa.stattools import acf, acovf"
   ]
  },
  {
   "cell_type": "code",
   "execution_count": 30,
   "metadata": {},
   "outputs": [
    {
     "name": "stderr",
     "output_type": "stream",
     "text": [
      "C:\\Users\\night\\AppData\\Local\\Continuum\\anaconda3\\lib\\site-packages\\statsmodels\\tsa\\stattools.py:541: FutureWarning: fft=True will become the default in a future version of statsmodels. To suppress this warning, explicitly set fft=False.\n",
      "  warnings.warn(msg, FutureWarning)\n"
     ]
    },
    {
     "data": {
      "text/plain": [
       "array([ 1.        ,  0.21724118,  0.15287758,  0.10821254,  0.09066059,\n",
       "        0.09595481,  0.09104012,  0.19508071,  0.14115295,  0.06117859,\n",
       "        0.04781522,  0.04770662, -0.01964707,  0.02287422,  0.08112657,\n",
       "        0.11185686,  0.07333732,  0.01501845,  0.07270333,  0.06859   ,\n",
       "        0.09280107,  0.26386846,  0.14012147,  0.06070286,  0.08716232,\n",
       "        0.05038825,  0.0650489 ,  0.11466565,  0.1552232 ,  0.12850638,\n",
       "        0.10358981,  0.09734643,  0.04912286,  0.04022798,  0.05838555,\n",
       "        0.05359812,  0.10151053,  0.08268663,  0.0912185 ,  0.11192192,\n",
       "        0.05652846])"
      ]
     },
     "execution_count": 30,
     "metadata": {},
     "output_type": "execute_result"
    }
   ],
   "source": [
    "acf(df)"
   ]
  },
  {
   "cell_type": "code",
   "execution_count": 31,
   "metadata": {
    "collapsed": true,
    "jupyter": {
     "outputs_hidden": true
    }
   },
   "outputs": [
    {
     "name": "stderr",
     "output_type": "stream",
     "text": [
      "C:\\Users\\night\\AppData\\Local\\Continuum\\anaconda3\\lib\\site-packages\\statsmodels\\tsa\\stattools.py:354: FutureWarning: fft=True will become the default in a future version of statsmodels. To suppress this warning, explicitly set fft=False.\n",
      "  warnings.warn(msg, FutureWarning)\n"
     ]
    },
    {
     "data": {
      "text/plain": [
       "array([ 5.38489473e+01,  1.16982088e+01,  8.23229673e+00,  5.82713152e+00,\n",
       "        4.88197758e+00,  5.16706571e+00,  4.90241467e+00,  1.05048907e+01,\n",
       "        7.60093771e+00,  3.29440264e+00,  2.57479946e+00,  2.56895120e+00,\n",
       "       -1.05797419e+00,  1.23175271e+00,  4.36858038e+00,  6.02337389e+00,\n",
       "        3.94913756e+00,  8.08727475e-01,  3.91499781e+00,  3.69349934e+00,\n",
       "        4.99724012e+00,  1.42090387e+01,  7.54539348e+00,  3.26878523e+00,\n",
       "        4.69359939e+00,  2.71335443e+00,  3.50281486e+00,  6.17462470e+00,\n",
       "        8.35860568e+00,  6.91993325e+00,  5.57820208e+00,  5.24200292e+00,\n",
       "        2.64521452e+00,  2.16623434e+00,  3.14400027e+00,  2.88620230e+00,\n",
       "        5.46623507e+00,  4.45258797e+00,  4.91202026e+00,  6.02687757e+00,\n",
       "        3.04399797e+00,  1.64067927e+00,  6.55010968e+00,  6.42640066e+00,\n",
       "        2.55195416e+00,  4.04873679e+00,  1.02097072e+00,  1.50300387e+00,\n",
       "        2.00732262e+00,  4.81021897e+00,  1.10884810e+00,  1.89767801e+00,\n",
       "       -1.26907848e+00,  3.88197324e+00, -1.05027021e+00,  2.99577869e+00,\n",
       "        2.36258572e+00,  5.26869843e+00,  3.69909712e+00,  5.46249424e-01,\n",
       "        5.23117992e+00,  3.77406501e+00,  1.64492908e+00,  6.50546476e+00,\n",
       "        9.41568330e+00,  2.78228016e+00,  3.42674528e+00,  1.57521490e+00,\n",
       "        1.88806809e+00,  4.25018380e+00,  2.83112049e-01,  7.05265880e+00,\n",
       "        2.80918997e+00,  2.95223269e+00,  4.18720704e-01,  2.61097340e+00,\n",
       "        4.90923473e+00,  8.92112314e-01,  7.68876178e-01,  1.75828406e+00,\n",
       "       -4.80989108e+00,  8.39317891e-01,  2.21455426e+00, -4.54044980e-01,\n",
       "        1.79800881e+00,  1.53246455e+00, -1.84635425e+00,  7.73085536e-01,\n",
       "        1.01734049e+00,  3.49884820e+00,  2.92008195e+00,  8.75772442e-01,\n",
       "        2.86997673e+00, -6.25294422e-02,  7.51115638e-01,  1.40870142e+00,\n",
       "        6.09278381e-01,  1.84520907e+00,  2.33024465e+00,  5.68126925e-01,\n",
       "        1.37513661e+00, -2.18502953e+00,  1.79531850e+00,  9.41100939e-01,\n",
       "        1.34884623e+00,  2.70479943e+00,  2.84768452e+00, -2.99688770e+00,\n",
       "       -3.72513041e+00,  6.69599303e-01,  3.44201410e-01, -1.27028637e+00,\n",
       "       -7.96472401e-01, -2.53967476e+00, -3.56481922e-01, -1.49837071e+00,\n",
       "       -3.45706566e+00, -1.61871050e+00, -3.14521179e+00,  2.42987612e-01,\n",
       "        2.45358532e-01,  5.37667526e-01, -4.19600209e+00, -8.89048695e-01,\n",
       "       -3.73455782e-01, -4.42265197e-01,  2.38486834e+00, -3.27198719e-01,\n",
       "       -1.57472084e+00, -5.37714631e+00, -2.50011974e+00, -9.76570361e-01,\n",
       "        1.74170974e+00,  1.39081363e+00,  6.61887866e-01, -7.65300231e-01,\n",
       "        4.92338093e-01, -2.07062782e+00, -3.60461269e+00, -2.84586722e+00,\n",
       "       -9.87861096e-01, -1.84581669e+00, -9.14363393e-01, -2.87089658e+00,\n",
       "       -1.67116030e+00,  2.27626453e-01,  7.48331019e-01,  2.40096278e+00,\n",
       "       -6.58996949e-01, -4.59445301e+00, -5.92606596e+00, -2.39429740e+00,\n",
       "        2.49537208e-01, -6.25066915e-01, -5.99937504e-01, -2.37459792e+00,\n",
       "       -4.01901252e+00, -6.35652525e+00, -5.81390288e+00, -3.86806789e+00,\n",
       "       -2.78303231e+00, -1.43746004e+00, -1.47613247e+00,  1.49436005e+00,\n",
       "       -2.87023469e+00, -2.22618991e+00,  5.05263390e-01, -3.42009321e-02,\n",
       "       -2.19216028e+00, -3.12883233e+00, -1.27936064e+00, -4.40807623e+00,\n",
       "       -2.31745611e+00,  1.27429351e-01, -9.74466946e-01,  1.41125966e-01,\n",
       "       -1.87515577e+00, -4.53016147e+00, -4.10908535e+00, -4.99396532e+00,\n",
       "       -5.54475635e+00, -1.44127828e+00, -2.49591618e+00, -5.26369429e-01,\n",
       "       -2.77826760e+00, -3.95424159e+00, -3.89955316e+00, -4.08854272e+00,\n",
       "       -3.05376797e+00, -2.87041751e+00, -1.29765815e+00, -2.78754469e+00,\n",
       "       -3.12505742e+00, -3.12948703e+00, -8.30647730e-01, -2.23607565e+00,\n",
       "       -3.86603958e-01, -2.46563682e-01, -4.70863262e+00, -2.55220653e+00,\n",
       "       -1.86732857e+00, -3.00410571e+00, -1.57417990e+00, -2.74889287e+00,\n",
       "       -2.97154335e-01, -3.86939028e+00, -5.09394374e+00, -3.99468410e+00,\n",
       "       -1.92603433e+00, -6.16971721e-01, -1.84220823e+00, -1.50453988e+00,\n",
       "       -2.31776664e+00, -5.83072692e+00, -3.97319369e+00, -7.29096363e-01,\n",
       "       -1.89358602e+00, -3.06739825e+00,  4.50724220e-01, -9.87054982e-01,\n",
       "       -1.58415864e+00, -1.92098832e+00, -1.98700546e+00,  2.78522847e+00,\n",
       "       -1.23674289e+00, -3.30314922e-01, -1.55176085e+00, -4.51082360e+00,\n",
       "       -2.05850710e+00, -1.88448671e+00,  6.00548871e-01, -2.88965293e+00,\n",
       "       -2.59118142e+00, -3.92837890e+00, -6.08955086e+00, -3.97970012e+00,\n",
       "       -2.44787902e+00, -1.01468806e+00, -1.55810059e+00, -5.52359429e-01,\n",
       "       -2.97454096e+00, -2.52554215e+00, -1.92775746e+00, -3.74135201e+00,\n",
       "       -1.22844628e+00, -4.97781125e-01, -1.25157459e+00, -6.19539568e-01,\n",
       "       -1.68028743e+00, -2.64467200e+00, -4.18966832e+00, -1.63566670e+00,\n",
       "       -2.01411770e+00, -1.37923786e+00, -2.27528691e+00, -2.86511715e+00,\n",
       "       -4.12202190e+00, -9.32771637e-01, -2.74320612e+00, -3.26175095e+00,\n",
       "       -1.53256449e+00, -1.66702224e+00, -1.04283860e+00, -2.54089178e+00,\n",
       "       -2.73588622e+00, -1.84947702e+00, -1.37123445e+00, -1.65390012e+00,\n",
       "        3.93546400e-02, -3.93207824e-01, -3.08578155e+00, -2.79257933e+00,\n",
       "       -1.49674247e+00,  2.28285612e-01, -4.38846901e+00, -1.42455934e+00,\n",
       "       -9.26613264e-01, -1.35195486e+00, -3.95371143e-01, -1.33757519e+00,\n",
       "       -3.23968166e+00, -7.16184825e-01, -1.18467898e+00, -8.34152132e-02,\n",
       "        3.95930749e-01, -1.40691507e+00,  1.38107416e+00,  8.82902701e-02,\n",
       "        2.11629476e-01, -4.68506641e-01,  4.89327716e-02, -8.95800831e-01,\n",
       "       -1.17451830e+00,  4.04140858e-01,  4.12726827e-01, -2.20128807e+00,\n",
       "       -1.21954362e-02, -5.45970135e-01, -6.24897771e-01, -1.39697609e+00,\n",
       "       -2.02374385e+00, -1.28454425e+00, -1.93049009e+00, -3.53844756e+00,\n",
       "       -1.50867938e+00, -1.08908197e+00, -1.18223366e+00, -3.09717673e-02,\n",
       "        1.20490638e+00,  3.90471141e-01, -2.26283479e-01,  5.89628443e-01,\n",
       "        1.15875485e+00,  4.55012053e-01,  1.68825556e+00,  1.30448273e+00,\n",
       "        4.60646111e-01, -1.72073981e-01, -5.25289476e-01, -4.45996057e-01,\n",
       "       -6.00634934e-02, -3.33143878e-01, -1.71169996e+00, -2.25732679e+00,\n",
       "       -1.68762241e+00, -2.21148906e+00, -3.12176877e-01, -9.31566137e-01,\n",
       "        2.01838747e-01,  4.67643707e-01, -1.74241331e-01, -1.78820368e+00,\n",
       "       -2.04057474e+00, -2.20924782e-01, -7.21822769e-01,  1.77211505e+00,\n",
       "        4.24904433e-01,  1.04102653e+00, -9.91430853e-01, -6.34689507e-01,\n",
       "       -7.43859214e-01,  1.92322701e-03,  9.88381217e-01, -8.00078557e-02,\n",
       "       -1.60091430e-01, -1.48292851e-01, -4.99346589e-01, -4.85228625e-01,\n",
       "        2.37480069e-01,  1.40905595e-01,  8.22833655e-01,  3.40640867e-01,\n",
       "       -6.04723249e-01, -1.01362649e+00, -3.50140914e-01, -5.73590357e-02,\n",
       "       -6.46334530e-02,  4.04173946e-01, -3.21696831e-01, -4.34289319e-01,\n",
       "       -7.23597889e-01, -1.02481113e+00, -7.34348638e-01, -4.68280965e-01,\n",
       "       -1.53371107e-01])"
      ]
     },
     "execution_count": 31,
     "metadata": {},
     "output_type": "execute_result"
    }
   ],
   "source": [
    "acovf(df)"
   ]
  },
  {
   "cell_type": "code",
   "execution_count": 32,
   "metadata": {},
   "outputs": [
    {
     "data": {
      "image/png": "[encoded data removed]",
      "text/plain": [
       "<Figure size 432x288 with 1 Axes>"
      ]
     },
     "metadata": {},
     "output_type": "display_data"
    }
   ],
   "source": [
    "import matplotlib.pyplot as plt\n",
    "from pandas.plotting import autocorrelation_plot\n",
    "plt.style.use('fivethirtyeight')\n",
    "\n",
    "autocorrelation_plot(df);"
   ]
  },
  {
   "cell_type": "code",
   "execution_count": 33,
   "metadata": {},
   "outputs": [
    {
     "ename": "NameError",
     "evalue": "name 'data' is not defined",
     "output_type": "error",
     "traceback": [
      "\u001b[1;31m---------------------------------------------------------------------------\u001b[0m",
      "\u001b[1;31mNameError\u001b[0m                                 Traceback (most recent call last)",
      "\u001b[1;32m<ipython-input-33-fed657096e45>\u001b[0m in \u001b[0;36m<module>\u001b[1;34m\u001b[0m\n\u001b[1;32m----> 1\u001b[1;33m \u001b[0mdata\u001b[0m\u001b[1;33m[\u001b[0m\u001b[1;34m'Passengers'\u001b[0m\u001b[1;33m]\u001b[0m\u001b[1;33m.\u001b[0m\u001b[0mhead\u001b[0m\u001b[1;33m(\u001b[0m\u001b[1;33m)\u001b[0m\u001b[1;33m\u001b[0m\u001b[1;33m\u001b[0m\u001b[0m\n\u001b[0m",
      "\u001b[1;31mNameError\u001b[0m: name 'data' is not defined"
     ]
    }
   ],
   "source": [
    "data['Passengers'].head()"
   ]
  },
  {
   "cell_type": "code",
   "execution_count": null,
   "metadata": {},
   "outputs": [],
   "source": []
  }
 ],
 "metadata": {
  "kernelspec": {
   "display_name": "Python 3",
   "language": "python",
   "name": "python3"
  },
  "language_info": {
   "codemirror_mode": {
    "name": "ipython",
    "version": 3
   },
   "file_extension": ".py",
   "mimetype": "text/x-python",
   "name": "python",
   "nbconvert_exporter": "python",
   "pygments_lexer": "ipython3",
   "version": "3.7.3"
  }
 },
 "nbformat": 4,
 "nbformat_minor": 4
}
