{
 "cells": [
  {
   "cell_type": "markdown",
   "metadata": {},
   "source": [
    "<img src=\"http://imgur.com/1ZcRyrc.png\" style=\"float: left; margin: 20px; height: 55px\">\n",
    "\n",
    "# Project 1: Python Coding Exercises\n",
    "\n",
    "_Authors: Joseph Nelson (DC) _\n",
    "\n",
    "---"
   ]
  },
  {
   "cell_type": "markdown",
   "metadata": {},
   "source": [
    "The following code challenges are drawn from common exercises used in technical interviews.\n",
    "\n",
    "Please note that there may be several ways to approach each challenge. If you get stuck, try mapping out your approach in pseudocode first. Finally, while solutions to problems like these may be found online, remember that if you copy/paste code that you can't explain, you'll be missing out on the point of the project. The only way to truly learn a new skill is through practice, trial, and error - we can only help you improve by understanding where you are having trouble."
   ]
  },
  {
   "cell_type": "markdown",
   "metadata": {},
   "source": [
    "### Challenge 1: Largest Palindrome\n",
    "A palindromic number reads the same both ways. For example, 1234321 is a palindrome. The largest palindrome made from the product of two two-digit numbers is 9009 = 91 × 99. Find the largest palindrome made from the product of two three-digit numbers. Afterward, write a brief explanation walking through your code's logic in markdown."
   ]
  },
  {
   "cell_type": "code",
   "execution_count": null,
   "metadata": {
    "collapsed": true
   },
   "outputs": [],
   "source": [
    "#Defines what a palindrome is. Checks to see if first number is same as last and iterates through\n",
    "#Returns true if it is a palindrome\n",
    "def is_palindrome(x):\n",
    "    #Turns x to list, checks to see if position 0 is equal to last and iterates through it\n",
    "    if x == x[::-1]:\n",
    "        return True\n",
    "    else:\n",
    "        return False\n",
    "\n",
    "#testing it\n",
    "is_palindrome('9349')\n",
    "\n",
    "#creates a variable to store largest number\n",
    "largestnum = 0\n",
    "\n",
    "#First for statement iterates from 999 which is the highest 3 digit number to 100 which is the smalles\n",
    "for num1 in range(999,100,-1):\n",
    "    #Same for the second number\n",
    "    for num2 in range(999,100,-1):\n",
    "        #Takes the product of the 2 numbers\n",
    "        product = num1 * num2\n",
    "        # Test if it's a palindrome. Must convert to string first\n",
    "        if is_palindrome(str(product)) == True:\n",
    "            #If the next iteration is larger than the stored largestnum, product becomes the new stored number\n",
    "            if largestnum < product:\n",
    "                largestnum = product\n",
    "                print(num1, num2)\n",
    "#Prints largest number\n",
    "print(largestnum)"
   ]
  },
  {
   "cell_type": "markdown",
   "metadata": {},
   "source": [
    "\n",
    "### Challenge 2: Summation of Primes\n",
    "The sum of the primes below 10 is 2 + 3 + 5 + 7 = 17. Find the sum of all the primes below 2,000. Afterward, write a brief explanation walking through your code's logic in markdown."
   ]
  },
  {
   "cell_type": "code",
   "execution_count": null,
   "metadata": {
    "collapsed": true
   },
   "outputs": [],
   "source": [
    "#Defines what a prime number is\n",
    "def isprime(p):\n",
    "    #1 can't be a prime number\n",
    "    if p > 1:\n",
    "        #Iterates through num with a range of 2 to the inputed number\n",
    "        for num in range(2,p):\n",
    "            #If you divide and there is a number that doesn't have a remainder, then the number is not prime\n",
    "            if p % num == 0:\n",
    "                return False\n",
    "            #Everything else should be false\n",
    "            else:\n",
    "                return True\n",
    "    #False statement for the p >1\n",
    "    else:\n",
    "        return False\n",
    "\n",
    "#test\n",
    "isprime(29)\n",
    "\n",
    "#Create variation to store the sum of prime\n",
    "primesum = 0\n",
    "\n",
    "#iterates from 0 to 2000 by 1\n",
    "for num3 in range(0,2000,1):\n",
    "    #Test if the number is prime\n",
    "    if isprime(num3) == True:\n",
    "        #print(num3)\n",
    "        #if prime, adds it to primesum\n",
    "        primesum += num3\n",
    "\n",
    "#prints it\n",
    "print(primesum)"
   ]
  },
  {
   "cell_type": "markdown",
   "metadata": {},
   "source": [
    "### Challenge 3: Multiples of 3 and 5\n",
    "If we list all of the natural numbers below 10 that are multiples of 3 or 5, we get 3, 5, 6, and 9. The sum of these multiples is 23. Find the sum of all the multiples of 3 and 5 below 1,000. Afterward, write a brief explanation walking through your code's logic in markdown."
   ]
  },
  {
   "cell_type": "code",
   "execution_count": null,
   "metadata": {
    "collapsed": true
   },
   "outputs": [],
   "source": [
    "#Create variation to store the sum\n",
    "sumnum = 0\n",
    "\n",
    "#Iterates from 0 - 1000\n",
    "for num4 in range(0,1000,1):\n",
    "    #Checks if divided by 3 or 5 has no remainder\n",
    "    if num4 % 3 == 0 or num4 %5 ==0:\n",
    "        #adds number to sumnum\n",
    "        sumnum +=num4\n",
    "#print\n",
    "print(sumnum)"
   ]
  },
  {
   "cell_type": "markdown",
   "metadata": {},
   "source": [
    "### Challenge 4: String Compressor\n",
    "Implement a method to perform basic string compression using the counts of repeated characters. (This is called run-length encoding.) For example, the string \"aabcccccaaa\" would become a2b1c5a3. If the “compressed” string would not become smaller than the original string, your method should return the original string. You can assume the string has only uppercase and lowercase letters (a–z). Specify whether your solution is case sensitive or case insensitive and what you would need to change to make it the other. Afterward, write a brief explanation walking through your code's logic in markdown."
   ]
  },
  {
   "cell_type": "code",
   "execution_count": null,
   "metadata": {
    "collapsed": true
   },
   "outputs": [],
   "source": []
  },
  {
   "cell_type": "markdown",
   "metadata": {},
   "source": [
    "### *BONUS* Challenge: FizzBuzz\n",
    "Write a program that prints all of the numbers from 1 to 100. For multiples of 3, instead of the number, print \"Fizz;\" for multiples of 5, print \"Buzz.\" For numbers that are multiples of both 3 and 5, print \"FizzBuzz.\" Afterward, write a brief explanation walking through your code's logic in markdown."
   ]
  },
  {
   "cell_type": "code",
   "execution_count": null,
   "metadata": {
    "collapsed": true
   },
   "outputs": [],
   "source": []
  }
 ],
 "metadata": {
  "anaconda-cloud": {},
  "kernelspec": {
   "display_name": "Python 3",
   "language": "python",
   "name": "python3"
  },
  "language_info": {
   "codemirror_mode": {
    "name": "ipython",
    "version": 3
   },
   "file_extension": ".py",
   "mimetype": "text/x-python",
   "name": "python",
   "nbconvert_exporter": "python",
   "pygments_lexer": "ipython3",
   "version": "3.7.3"
  }
 },
 "nbformat": 4,
 "nbformat_minor": 2
}
