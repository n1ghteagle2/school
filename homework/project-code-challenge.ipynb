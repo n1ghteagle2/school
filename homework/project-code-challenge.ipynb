{
 "cells": [
  {
   "cell_type": "markdown",
   "metadata": {},
   "source": [
    "<img src=\"http://imgur.com/1ZcRyrc.png\" style=\"float: left; margin: 20px; height: 55px\">\n",
    "\n",
    "# Project 1: Python Coding Exercises\n",
    "\n",
    "_Authors: Joseph Nelson (DC) _\n",
    "\n",
    "---"
   ]
  },
  {
   "cell_type": "markdown",
   "metadata": {},
   "source": [
    "The following code challenges are drawn from common exercises used in technical interviews.\n",
    "\n",
    "Please note that there may be several ways to approach each challenge. If you get stuck, try mapping out your approach in pseudocode first. Finally, while solutions to problems like these may be found online, remember that if you copy/paste code that you can't explain, you'll be missing out on the point of the project. The only way to truly learn a new skill is through practice, trial, and error - we can only help you improve by understanding where you are having trouble."
   ]
  },
  {
   "cell_type": "markdown",
   "metadata": {},
   "source": [
    "### Challenge 1: Largest Palindrome\n",
    "A palindromic number reads the same both ways. For example, 1234321 is a palindrome. The largest palindrome made from the product of two two-digit numbers is 9009 = 91 × 99. Find the largest palindrome made from the product of two three-digit numbers. Afterward, write a brief explanation walking through your code's logic in markdown."
   ]
  },
  {
   "cell_type": "code",
   "execution_count": 1,
   "metadata": {
    "collapsed": true
   },
   "outputs": [
    {
     "name": "stdout",
     "output_type": "stream",
     "text": [
      "995 583\n",
      "993 913\n",
      "906609\n"
     ]
    }
   ],
   "source": [
    "#Defines what a palindrome is. Checks to see if first number is same as last and iterates through\n",
    "#Returns true if it is a palindrome\n",
    "def is_palindrome(x):\n",
    "    #Turns x to list, checks to see if position 0 is equal to last and iterates through it\n",
    "    if x == x[::-1]:\n",
    "        return True\n",
    "    else:\n",
    "        return False\n",
    "\n",
    "#testing it\n",
    "#is_palindrome('9349')\n",
    "\n",
    "#creates a variable to store largest number\n",
    "largestnum = 0\n",
    "\n",
    "#First for statement iterates from 999 which is the highest 3 digit number to 100 which is the smalles\n",
    "for num1 in range(999,100,-1):\n",
    "    #Same for the second number\n",
    "    for num2 in range(999,100,-1):\n",
    "        #Takes the product of the 2 numbers\n",
    "        product = num1 * num2\n",
    "        # Test if it's a palindrome. Must convert to string first\n",
    "        if is_palindrome(str(product)) == True:\n",
    "            #If the next iteration is larger than the stored largestnum, product becomes the new stored number\n",
    "            if largestnum < product:\n",
    "                largestnum = product\n",
    "                print(num1, num2)\n",
    "#Prints largest number\n",
    "print(largestnum)"
   ]
  },
  {
   "cell_type": "markdown",
   "metadata": {},
   "source": [
    "\n",
    "### Challenge 2: Summation of Primes\n",
    "The sum of the primes below 10 is 2 + 3 + 5 + 7 = 17. Find the sum of all the primes below 2,000. Afterward, write a brief explanation walking through your code's logic in markdown."
   ]
  },
  {
   "cell_type": "code",
   "execution_count": 2,
   "metadata": {
    "collapsed": true
   },
   "outputs": [
    {
     "name": "stdout",
     "output_type": "stream",
     "text": [
      "999999\n"
     ]
    }
   ],
   "source": [
    "#Defines what a prime number is\n",
    "def isprime(p):\n",
    "    #1 can't be a prime number\n",
    "    if p > 1:\n",
    "        #Iterates through num with a range of 2 to the inputed number\n",
    "        for num in range(2,p):\n",
    "            #If you divide and there is a number that doesn't have a remainder, then the number is not prime\n",
    "            if p % num == 0:\n",
    "                return False\n",
    "            #Everything else should be false\n",
    "            else:\n",
    "                return True\n",
    "    #False statement for the p >1\n",
    "    else:\n",
    "        return False\n",
    "\n",
    "#test\n",
    "isprime(29)\n",
    "\n",
    "#Create variation to store the sum of prime\n",
    "primesum = 0\n",
    "\n",
    "#iterates from 0 to 2000 by 1\n",
    "for num3 in range(0,2000,1):\n",
    "    #Test if the number is prime\n",
    "    if isprime(num3) == True:\n",
    "        #print(num3)\n",
    "        #if prime, adds it to primesum\n",
    "        primesum += num3\n",
    "\n",
    "#prints it\n",
    "print(primesum)"
   ]
  },
  {
   "cell_type": "markdown",
   "metadata": {},
   "source": [
    "### Challenge 3: Multiples of 3 and 5\n",
    "If we list all of the natural numbers below 10 that are multiples of 3 or 5, we get 3, 5, 6, and 9. The sum of these multiples is 23. Find the sum of all the multiples of 3 and 5 below 1,000. Afterward, write a brief explanation walking through your code's logic in markdown."
   ]
  },
  {
   "cell_type": "code",
   "execution_count": 3,
   "metadata": {
    "collapsed": true
   },
   "outputs": [
    {
     "name": "stdout",
     "output_type": "stream",
     "text": [
      "233168\n"
     ]
    }
   ],
   "source": [
    "#Create variation to store the sum\n",
    "sumnum = 0\n",
    "\n",
    "#Iterates from 0 - 1000\n",
    "for num4 in range(0,1000,1):\n",
    "    #Checks if divided by 3 or 5 has no remainder\n",
    "    if num4 % 3 == 0 or num4 %5 ==0:\n",
    "        #adds number to sumnum\n",
    "        sumnum +=num4\n",
    "#print\n",
    "print(sumnum)"
   ]
  },
  {
   "cell_type": "markdown",
   "metadata": {},
   "source": [
    "### Challenge 4: String Compressor\n",
    "Implement a method to perform basic string compression using the counts of repeated characters. (This is called run-length encoding.) For example, the string \"aabcccccaaa\" would become a2b1c5a3. If the “compressed” string would not become smaller than the original string, your method should return the original string. You can assume the string has only uppercase and lowercase letters (a–z). Specify whether your solution is case sensitive or case insensitive and what you would need to change to make it the other. Afterward, write a brief explanation walking through your code's logic in markdown."
   ]
  },
  {
   "cell_type": "code",
   "execution_count": 7,
   "metadata": {},
   "outputs": [
    {
     "name": "stdin",
     "output_type": "stream",
     "text": [
      "Enter something:  aaaaaaaaaaabbbbbbbccccccccccddd\n"
     ]
    },
    {
     "name": "stdout",
     "output_type": "stream",
     "text": [
      "a11b7c10d3\n"
     ]
    }
   ],
   "source": [
    "#define string compressor\n",
    "def codething(newstring):\n",
    "    #Empty list\n",
    "    sclist = []\n",
    "    #Default counter set to 1\n",
    "    count = 1\n",
    "    #Catches error when hitting the last letter\n",
    "    try:\n",
    "        #For loop iterates through the entier string\n",
    "        for counter in range(len(newstring)):\n",
    "            #Test if the current position equals the next position\n",
    "            if newstring[counter] == newstring[counter+1]:\n",
    "                #if so, adds 1 to the counter\n",
    "                count += 1\n",
    "            #if it doesn't equal, appends the letter and the count to a list. Resets the counter to 1\n",
    "            else:\n",
    "                sclist.append(newstring[counter])\n",
    "                sclist.append(count)\n",
    "                count = 1\n",
    "    #Catches error at the end. Appends to list\n",
    "    except:\n",
    "        sclist.append(newstring[counter])\n",
    "        sclist.append(count)\n",
    "    return sclist\n",
    "\n",
    "userinput = input(\"Enter something: \")\n",
    "\n",
    "#turns the list into a string and then prints\n",
    "thing = \"\".join(str(x) for x in codething(userinput))\n",
    "print(thing)"
   ]
  },
  {
   "cell_type": "markdown",
   "metadata": {},
   "source": [
    "### *BONUS* Challenge: FizzBuzz\n",
    "Write a program that prints all of the numbers from 1 to 100. For multiples of 3, instead of the number, print \"Fizz;\" for multiples of 5, print \"Buzz.\" For numbers that are multiples of both 3 and 5, print \"FizzBuzz.\" Afterward, write a brief explanation walking through your code's logic in markdown."
   ]
  },
  {
   "cell_type": "code",
   "execution_count": 6,
   "metadata": {
    "collapsed": true
   },
   "outputs": [
    {
     "name": "stdout",
     "output_type": "stream",
     "text": [
      "1\n",
      "2\n",
      "Fizz\n",
      "4\n",
      "5\n",
      "Fizz\n",
      "7\n",
      "8\n",
      "Fizz\n",
      "10\n",
      "11\n",
      "Fizz\n",
      "13\n",
      "14\n",
      "FizzBuzz\n",
      "16\n",
      "17\n",
      "Fizz\n",
      "19\n",
      "20\n",
      "Fizz\n",
      "22\n",
      "23\n",
      "Fizz\n",
      "25\n",
      "26\n",
      "Fizz\n",
      "28\n",
      "29\n",
      "FizzBuzz\n",
      "31\n",
      "32\n",
      "Fizz\n",
      "34\n",
      "35\n",
      "Fizz\n",
      "37\n",
      "38\n",
      "Fizz\n",
      "40\n",
      "41\n",
      "Fizz\n",
      "43\n",
      "44\n",
      "FizzBuzz\n",
      "46\n",
      "47\n",
      "Fizz\n",
      "49\n",
      "50\n",
      "Fizz\n",
      "52\n",
      "53\n",
      "Fizz\n",
      "55\n",
      "56\n",
      "Fizz\n",
      "58\n",
      "59\n",
      "FizzBuzz\n",
      "61\n",
      "62\n",
      "Fizz\n",
      "64\n",
      "65\n",
      "Fizz\n",
      "67\n",
      "68\n",
      "Fizz\n",
      "70\n",
      "71\n",
      "Fizz\n",
      "73\n",
      "74\n",
      "FizzBuzz\n",
      "76\n",
      "77\n",
      "Fizz\n",
      "79\n",
      "80\n",
      "Fizz\n",
      "82\n",
      "83\n",
      "Fizz\n",
      "85\n",
      "86\n",
      "Fizz\n",
      "88\n",
      "89\n",
      "FizzBuzz\n",
      "91\n",
      "92\n",
      "Fizz\n",
      "94\n",
      "95\n",
      "Fizz\n",
      "97\n",
      "98\n",
      "Fizz\n"
     ]
    }
   ],
   "source": [
    "#iterates through 1 to 100\n",
    "for seq in range(1,100,1):\n",
    "    # Test if it's a multiple of 3 and 5\n",
    "    if seq%3==0 and seq%5==0:\n",
    "        print(\"FizzBuzz\")\n",
    "    #test if it's just a multiple of 3\n",
    "    elif seq%3==0:\n",
    "        print(\"Fizz\")\n",
    "    #test if it's just a multiple of 5\n",
    "    elif seq%6==0:\n",
    "        print(\"Buzz\")\n",
    "    #prints all other numbers\n",
    "    else:\n",
    "        print(seq)"
   ]
  },
  {
   "cell_type": "code",
   "execution_count": null,
   "metadata": {},
   "outputs": [],
   "source": []
  }
 ],
 "metadata": {
  "anaconda-cloud": {},
  "kernelspec": {
   "display_name": "Python 3",
   "language": "python",
   "name": "python3"
  },
  "language_info": {
   "codemirror_mode": {
    "name": "ipython",
    "version": 3
   },
   "file_extension": ".py",
   "mimetype": "text/x-python",
   "name": "python",
   "nbconvert_exporter": "python",
   "pygments_lexer": "ipython3",
   "version": "3.7.3"
  }
 },
 "nbformat": 4,
 "nbformat_minor": 2
}
